{
 "cells": [
  {
   "cell_type": "code",
   "execution_count": null,
   "id": "5d7c5c41",
   "metadata": {
    "vscode": {
     "languageId": "plaintext"
    }
   },
   "outputs": [],
   "source": [
    "# Alpha Decay Analysis\n",
    "from lifetimes import BetaGeoFitter\n",
    "\n",
    "bgf = BetaGeoFitter()\n",
    "bgf.fit(df['frequency'], df['recency'], df['T'])\n",
    "\n",
    "plt.figure(figsize=(12,6))\n",
    "bgf.plot_period_transactions()\n",
    "plt.title('Alpha Lifetime Value Analysis')\n",
    "plt.xlabel('Days Since First Trade')\n",
    "plt.ylabel('Expected Alpha Activity')\n",
    "\n",
    "# Half-life Calculation\n",
    "halflife = np.log(0.5) / bgf.params_['r']\n",
    "print(f\"Alpha half-life: {halflife:.1f} days\")"
   ]
  }
 ],
 "metadata": {
  "language_info": {
   "name": "python"
  }
 },
 "nbformat": 4,
 "nbformat_minor": 5
}
